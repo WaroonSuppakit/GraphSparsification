{
 "cells": [
  {
   "cell_type": "code",
   "execution_count": null,
   "metadata": {},
   "outputs": [],
   "source": [
    "#Counting\n",
    "from random import random\n",
    "\n",
    "def counting(n,k):\n",
    "    total = 0\n",
    "    for i in range(k):\n",
    "        x = 0\n",
    "        for j in range(n):\n",
    "            p = 1/(2**x)\n",
    "            if(random() <= p):\n",
    "                x += 1\n",
    "        ans = 2**x - 1\n",
    "        total += ans\n",
    "    return total/k\n",
    "\n",
    "print(int(counting(100,2000)))"
   ]
  }
 ],
 "metadata": {
  "kernelspec": {
   "display_name": "Python 3",
   "language": "python",
   "name": "python3"
  },
  "language_info": {
   "codemirror_mode": {
    "name": "ipython",
    "version": 3
   },
   "file_extension": ".py",
   "mimetype": "text/x-python",
   "name": "python",
   "nbconvert_exporter": "python",
   "pygments_lexer": "ipython3",
   "version": "3.8.3"
  }
 },
 "nbformat": 4,
 "nbformat_minor": 4
}
