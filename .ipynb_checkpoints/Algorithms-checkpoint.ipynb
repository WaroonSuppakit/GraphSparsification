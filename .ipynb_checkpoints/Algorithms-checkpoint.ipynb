{
 "cells": [
  {
   "cell_type": "code",
   "execution_count": 1,
   "metadata": {},
   "outputs": [
    {
     "name": "stdout",
     "output_type": "stream",
     "text": [
      "101\n"
     ]
    }
   ],
   "source": [
    "#Counting\n",
    "from random import random\n",
    "\n",
    "def counting(n,k):\n",
    "    total = 0\n",
    "    for i in range(k):\n",
    "        x = 0\n",
    "        for j in range(n):\n",
    "            p = 1/(2**x)\n",
    "            if(random() <= p):\n",
    "                x += 1\n",
    "        ans = 2**x - 1\n",
    "        total += ans\n",
    "    return total/k\n",
    "\n",
    "print(int(counting(100,2000)))"
   ]
  },
  {
   "cell_type": "code",
   "execution_count": 2,
   "metadata": {
    "scrolled": false
   },
   "outputs": [
    {
     "name": "stdout",
     "output_type": "stream",
     "text": [
      "P =  1.0361632918473203 \n",
      "\n",
      "G is  499500.0\n",
      "H is  473654.53043728735\n",
      "Error :  0.05174268180723253\n"
     ]
    }
   ],
   "source": [
    "#Sparsify\n",
    "import math\n",
    "\n",
    "def createGraph(n):\n",
    "    G = [[1]*n for i in range(n)]\n",
    "    for i in range(n):\n",
    "        G[i][i] = 0\n",
    "    return G\n",
    "\n",
    "def sumWeight(graph):\n",
    "    total = 0\n",
    "    for i in graph:\n",
    "        total += sum(i)\n",
    "    return total/2\n",
    "\n",
    "def error(n,m):\n",
    "    return abs(n-m) / n\n",
    "\n",
    "def printGraph(graph):\n",
    "    for node in graph:\n",
    "        print(node)\n",
    "\n",
    "def sparsify(graph,n,d,e):\n",
    "    visit = [[False]*n for i in range(n)]\n",
    "    p = (6*d*math.log(n))/(e**2*n)\n",
    "    print(\"P = \",p,\"\\n\")\n",
    "    for i in range(n):\n",
    "        for j in range(n):\n",
    "            if(not visit[i][j] and graph[i][j]):\n",
    "                visit[i][j] = True\n",
    "                visit[j][i] = True\n",
    "                if(random() > p):\n",
    "                    graph[i][j] = 0\n",
    "                    graph[j][i] = 0\n",
    "                else:\n",
    "                    graph[i][j] = graph[i][j] * (1/p)\n",
    "                    graph[j][i] = graph[i][j] * (1/p)   \n",
    "    return graph\n",
    "\n",
    "\n",
    "n = 1000\n",
    "G = createGraph(n)\n",
    "W_G = sumWeight(G)\n",
    "H = sparsify(G,n,0.25,0.1)\n",
    "W_H = sumWeight(H)\n",
    "                \n",
    "\n",
    "\n",
    "print(\"G is \" , W_G)\n",
    "print(\"H is \" , W_H)\n",
    "print(\"Error : \" ,error(W_G,W_H))"
   ]
  },
  {
   "cell_type": "code",
   "execution_count": null,
   "metadata": {},
   "outputs": [],
   "source": []
  }
 ],
 "metadata": {
  "kernelspec": {
   "display_name": "Python 3",
   "language": "python",
   "name": "python3"
  },
  "language_info": {
   "codemirror_mode": {
    "name": "ipython",
    "version": 3
   },
   "file_extension": ".py",
   "mimetype": "text/x-python",
   "name": "python",
   "nbconvert_exporter": "python",
   "pygments_lexer": "ipython3",
   "version": "3.8.3"
  }
 },
 "nbformat": 4,
 "nbformat_minor": 4
}
