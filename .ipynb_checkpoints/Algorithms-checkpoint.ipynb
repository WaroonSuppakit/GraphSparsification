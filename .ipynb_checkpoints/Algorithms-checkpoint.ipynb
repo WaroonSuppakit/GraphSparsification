{
 "cells": [
  {
   "cell_type": "code",
   "execution_count": 1,
   "metadata": {},
   "outputs": [
    {
     "name": "stdout",
     "output_type": "stream",
     "text": [
      "100\n"
     ]
    }
   ],
   "source": [
    "#Counting\n",
    "from random import random\n",
    "\n",
    "def counting(n,k):\n",
    "    total = 0\n",
    "    for i in range(k):\n",
    "        x = 0\n",
    "        for j in range(n):\n",
    "            p = 1/(2**x)\n",
    "            if(random() <= p):\n",
    "                x += 1\n",
    "        ans = 2**x - 1\n",
    "        total += ans\n",
    "    return total/k\n",
    "\n",
    "print(int(counting(100,2000)))"
   ]
  },
  {
   "cell_type": "code",
   "execution_count": 10,
   "metadata": {
    "scrolled": true
   },
   "outputs": [
    {
     "name": "stdout",
     "output_type": "stream",
     "text": [
      "[0, 1, 1]\n",
      "[1, 0, 1]\n",
      "[1, 1, 0]\n",
      "\n",
      "------------------\n",
      "\n",
      "0.8788898309344879\n",
      "[0, 1.1377990332835466, 1.1377990332835466]\n",
      "[1.1377990332835466, 0, 1.1377990332835466]\n",
      "[1.1377990332835466, 1.1377990332835466, 0]\n"
     ]
    }
   ],
   "source": [
    "#Sparsify\n",
    "import math\n",
    "\n",
    "def createGraph(n):\n",
    "    graph = [[1]*n for i in range(n)]\n",
    "    for i in range(n):\n",
    "        graph[i][i] = 0\n",
    "    return graph\n",
    "\n",
    "def printGraph(graph):\n",
    "    for node in graph:\n",
    "        print(node)\n",
    "\n",
    "def sparsify(graph,n,d,e):\n",
    "    p = (6*d*math.log(n))/(e**2*n)\n",
    "    visit = [[False]*n for i in range(n)]\n",
    "    print(p)\n",
    "    for i in range(n):\n",
    "        for j in range(n):\n",
    "            if(graph[i][j] and not visit[i][j]):\n",
    "                visit[i][j] = True\n",
    "                visit[j][i] = True\n",
    "                graph[i][j] *= 1/p\n",
    "                graph[j][i] *= 1/p\n",
    "                if(random() > 1/p):\n",
    "                    graph[i][j] = 0\n",
    "                    graph[j][i] = 0\n",
    "    return graph\n",
    "\n",
    "\n",
    "n = 3\n",
    "graph = createGraph(n)\n",
    "printGraph(graph)\n",
    "\n",
    "print(\"\\n------------------\\n\")\n",
    "\n",
    "graph_s = sparsify(graph,n,0.1,0.5)\n",
    "printGraph(graph_s)"
   ]
  },
  {
   "cell_type": "code",
   "execution_count": null,
   "metadata": {},
   "outputs": [],
   "source": []
  }
 ],
 "metadata": {
  "kernelspec": {
   "display_name": "Python 3",
   "language": "python",
   "name": "python3"
  },
  "language_info": {
   "codemirror_mode": {
    "name": "ipython",
    "version": 3
   },
   "file_extension": ".py",
   "mimetype": "text/x-python",
   "name": "python",
   "nbconvert_exporter": "python",
   "pygments_lexer": "ipython3",
   "version": "3.8.3"
  }
 },
 "nbformat": 4,
 "nbformat_minor": 4
}
