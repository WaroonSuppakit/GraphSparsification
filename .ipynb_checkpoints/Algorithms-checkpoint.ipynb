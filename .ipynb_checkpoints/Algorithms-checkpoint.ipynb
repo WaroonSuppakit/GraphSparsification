{
 "cells": [
  {
   "cell_type": "code",
   "execution_count": 1,
   "metadata": {},
   "outputs": [],
   "source": [
    "import math\n",
    "from math import log10, floor\n",
    "from random import random"
   ]
  },
  {
   "cell_type": "code",
   "execution_count": 2,
   "metadata": {},
   "outputs": [],
   "source": [
    "#Find cutter\n",
    "def powerSet(n):\n",
    "    node = range(n)\n",
    "    subsets = []\n",
    "    for i in range(2**len(node)):\n",
    "        subset = []\n",
    "        for k in range(len(node)):            \n",
    "            if i & 1<<k:\n",
    "                subset.append(node[k])\n",
    "            if len(subset) > (n // 2):\n",
    "                subset = []\n",
    "                break\n",
    "                \n",
    "        if len(subset) > 0:\n",
    "            subsets.append(subset)\n",
    "    return subsets"
   ]
  },
  {
   "cell_type": "code",
   "execution_count": 3,
   "metadata": {},
   "outputs": [],
   "source": [
    "#error of cut\n",
    "def error(h,u):\n",
    "    w_h = 0 \n",
    "    for i in u:\n",
    "        w_h += sum(h[i])\n",
    "        for j in u:\n",
    "            w_h -= h[i][j]\n",
    "    w_g = len(u) * len(h) - len(u) * len(u)\n",
    "    e = abs(w_h - w_g) / w_g\n",
    "    print(\"W_G : %.2f W_H : %.2f Error %.2f\"%(w_g,w_h,e),\"cut :\",u)"
   ]
  },
  {
   "cell_type": "code",
   "execution_count": 4,
   "metadata": {},
   "outputs": [],
   "source": [
    "#Sparsify\n",
    "def sparsify(n,d,e):\n",
    "    h = [[1]*n for i in range(n)]\n",
    "    p = (6*d*math.log(n))/(e**2*n)\n",
    "    edge = 0\n",
    "    for i in range(n):\n",
    "        for j in range(i,n):\n",
    "            if i != j and random() <= p:\n",
    "                h[i][j] *= (1/p)\n",
    "                h[j][i] *= (1/p)\n",
    "                edge += 1\n",
    "            else:\n",
    "                h[i][j] = 0\n",
    "                h[j][i] = 0\n",
    "    return h , edge , int((n*(n-1))/2)"
   ]
  },
  {
   "cell_type": "code",
   "execution_count": 5,
   "metadata": {},
   "outputs": [
    {
     "name": "stdout",
     "output_type": "stream",
     "text": [
      "W_G : 4.00 W_H : 5.52 Error 0.38 cut : [0]\n",
      "W_G : 4.00 W_H : 5.52 Error 0.38 cut : [1]\n",
      "W_G : 6.00 W_H : 8.28 Error 0.38 cut : [0, 1]\n",
      "W_G : 4.00 W_H : 5.52 Error 0.38 cut : [2]\n",
      "W_G : 6.00 W_H : 8.28 Error 0.38 cut : [0, 2]\n",
      "W_G : 6.00 W_H : 8.28 Error 0.38 cut : [1, 2]\n",
      "W_G : 4.00 W_H : 5.52 Error 0.38 cut : [3]\n",
      "W_G : 6.00 W_H : 8.28 Error 0.38 cut : [0, 3]\n",
      "W_G : 6.00 W_H : 8.28 Error 0.38 cut : [1, 3]\n",
      "W_G : 6.00 W_H : 8.28 Error 0.38 cut : [2, 3]\n",
      "W_G : 4.00 W_H : 5.52 Error 0.38 cut : [4]\n",
      "W_G : 6.00 W_H : 8.28 Error 0.38 cut : [0, 4]\n",
      "W_G : 6.00 W_H : 8.28 Error 0.38 cut : [1, 4]\n",
      "W_G : 6.00 W_H : 8.28 Error 0.38 cut : [2, 4]\n",
      "W_G : 6.00 W_H : 8.28 Error 0.38 cut : [3, 4]\n",
      "Number of edge before cut is 10 edge\n",
      "Number of edge after cut is 10 edge\n"
     ]
    }
   ],
   "source": [
    "n = 5\n",
    "h,edge_h,edge_g = sparsify(n,0.015,0.2)\n",
    "\n",
    "cut = powerSet(n)\n",
    "\n",
    "for i in cut:\n",
    "    error(h,i)\n",
    "\n",
    "print(\"Number of edge before cut is %d edge\"%edge_g)\n",
    "print(\"Number of edge after cut is %d edge\"%edge_h)"
   ]
  },
  {
   "cell_type": "code",
   "execution_count": null,
   "metadata": {},
   "outputs": [],
   "source": []
  }
 ],
 "metadata": {
  "kernelspec": {
   "display_name": "Python 3",
   "language": "python",
   "name": "python3"
  },
  "language_info": {
   "codemirror_mode": {
    "name": "ipython",
    "version": 3
   },
   "file_extension": ".py",
   "mimetype": "text/x-python",
   "name": "python",
   "nbconvert_exporter": "python",
   "pygments_lexer": "ipython3",
   "version": "3.8.3"
  }
 },
 "nbformat": 4,
 "nbformat_minor": 4
}
