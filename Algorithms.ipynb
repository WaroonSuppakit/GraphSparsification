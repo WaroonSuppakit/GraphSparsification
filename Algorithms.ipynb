{
 "cells": [
  {
   "cell_type": "code",
   "execution_count": 1,
   "metadata": {},
   "outputs": [
    {
     "name": "stdout",
     "output_type": "stream",
     "text": [
      "99\n"
     ]
    }
   ],
   "source": [
    "#Counting\n",
    "from random import random\n",
    "\n",
    "def counting(n,k):\n",
    "    total = 0\n",
    "    for i in range(k):\n",
    "        x = 0\n",
    "        for j in range(n):\n",
    "            p = 1/(2**x)\n",
    "            if(random() <= p):\n",
    "                x += 1\n",
    "        ans = 2**x - 1\n",
    "        total += ans\n",
    "    return total/k\n",
    "\n",
    "print(int(counting(100,2000)))"
   ]
  },
  {
   "cell_type": "code",
   "execution_count": 2,
   "metadata": {},
   "outputs": [
    {
     "name": "stdout",
     "output_type": "stream",
     "text": [
      "P = 0.02\n",
      "1/P = 64.34\n",
      "Total weight G: 499500.00\n",
      "Total weight H: 487632.28\n",
      "---------------------------------\n",
      "Number of edge before cut is 499500 edge\n",
      "Number of edge after cut is 7579 edge\n",
      "---------------------------------\n",
      "Expected weight is 64.90579232088666\n",
      "Real weight is 64.33992324492621\n",
      "Error :  0.008718313970544555\n",
      "---------------------------------\n",
      "Error :  0.023759202656064377\n"
     ]
    }
   ],
   "source": [
    "#Sparsify\n",
    "import math\n",
    "\n",
    "def createGraph(n):\n",
    "    G = [[1]*n for i in range(n)]\n",
    "    for i in range(n):\n",
    "        G[i][i] = 0\n",
    "    return G\n",
    "\n",
    "def sumWeight(graph):\n",
    "    total = 0\n",
    "    for i in graph:\n",
    "        total += sum(i)\n",
    "    return total/2\n",
    "        \n",
    "def error(n,m):\n",
    "    return abs(n-m) / max(n,m)\n",
    "\n",
    "def printGraph(graph):\n",
    "    for node in graph:\n",
    "        print(node)\n",
    "\n",
    "def sparsify(graph,n,d,e):\n",
    "    cut=0\n",
    "    visit = [[False]*n for i in range(n)]\n",
    "    p = (6*d*math.log(n))/(e**2*n)\n",
    "    print(\"P = %.2f\"%p)\n",
    "    print(\"1/P = %.2f\"%(1/p))\n",
    "    for i in range(n):\n",
    "        for j in range(n):\n",
    "            if(not visit[i][j] and graph[i][j]):\n",
    "                visit[i][j] = True\n",
    "                visit[j][i] = True\n",
    "                if(random() > p):\n",
    "                    graph[i][j] = 0\n",
    "                    graph[j][i] = 0\n",
    "                    cut += 1\n",
    "                else:\n",
    "                    graph[i][j] = graph[i][j] * (1/p)\n",
    "                    graph[j][i] = graph[j][i] * (1/p)\n",
    "    return (graph,cut,(1/p))\n",
    "\n",
    "\n",
    "n = 1000\n",
    "\n",
    "G = createGraph(n)\n",
    "W_G = sumWeight(G)\n",
    "edgeNumber_G = (n*(n-1))/2\n",
    "\n",
    "H,cut,weight = sparsify(G,n,0.015,0.2)\n",
    "W_H = sumWeight(H)\n",
    "edgeNumber_H = edgeNumber_G - cut\n",
    "\n",
    "print(\"Total weight G: %.2f\"%W_G)\n",
    "print(\"Total weight H: %.2f\"%W_H)\n",
    "print(\"---------------------------------\")\n",
    "print(\"Number of edge before cut is %d edge\"%edgeNumber_G)\n",
    "print(\"Number of edge after cut is %d edge\"%edgeNumber_H)\n",
    "print(\"---------------------------------\")\n",
    "expect = (cut/edgeNumber_H)\n",
    "print(\"Expected weight is\",expect)\n",
    "print(\"Real weight is\",weight)\n",
    "print(\"Error : \" ,error(expect,weight))\n",
    "print(\"---------------------------------\")\n",
    "print(\"Error : \" ,error(W_G,W_H))"
   ]
  },
  {
   "cell_type": "code",
   "execution_count": null,
   "metadata": {},
   "outputs": [],
   "source": []
  }
 ],
 "metadata": {
  "kernelspec": {
   "display_name": "Python 3",
   "language": "python",
   "name": "python3"
  },
  "language_info": {
   "codemirror_mode": {
    "name": "ipython",
    "version": 3
   },
   "file_extension": ".py",
   "mimetype": "text/x-python",
   "name": "python",
   "nbconvert_exporter": "python",
   "pygments_lexer": "ipython3",
   "version": "3.8.3"
  }
 },
 "nbformat": 4,
 "nbformat_minor": 4
}
