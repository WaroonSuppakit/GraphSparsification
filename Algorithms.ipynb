{
 "cells": [
  {
   "cell_type": "code",
   "execution_count": 2,
   "metadata": {},
   "outputs": [
    {
     "name": "stdout",
     "output_type": "stream",
     "text": [
      "Number of edge before cut is 499500 edge\n",
      "Number of edge after cut is 7689 edge\n"
     ]
    }
   ],
   "source": [
    "#Sparsify\n",
    "import math\n",
    "from math import log10, floor\n",
    "from random import random\n",
    "\n",
    "def printGraph(G):\n",
    "    for node in G:\n",
    "        print(node)\n",
    "        \n",
    "def sparsify(n,d,e):\n",
    "    h = [[1]*n for i in range(n)]\n",
    "    p = (6*d*math.log(n))/(e**2*n)\n",
    "    edge = 0\n",
    "    for i in range(n):\n",
    "        for j in range(i,n):\n",
    "            if i != j and random() <= p:\n",
    "                h[i][j] *= (1/p)\n",
    "                h[j][i] *= (1/p)\n",
    "                edge += 1\n",
    "            else:\n",
    "                h[i][j] = 0\n",
    "                h[j][i] = 0\n",
    "    return h , edge\n",
    "\n",
    "n = 1000\n",
    "h , edge_h = sparsify(n,0.015,0.2)\n",
    "edge_g = int((n*(n-1))/2)\n",
    "#printGraph(h)\n",
    "print(\"Number of edge before cut is %d edge\"%edge_g)\n",
    "print(\"Number of edge after cut is %d edge\"%edge_h)"
   ]
  },
  {
   "cell_type": "code",
   "execution_count": 3,
   "metadata": {},
   "outputs": [
    {
     "name": "stdout",
     "output_type": "stream",
     "text": [
      "100\n"
     ]
    }
   ],
   "source": [
    "#Counting\n",
    "from random import random\n",
    "\n",
    "def counting(n,k):\n",
    "    total = 0\n",
    "    for i in range(k):\n",
    "        x = 0\n",
    "        for j in range(n):\n",
    "            p = 1/(2**x)\n",
    "            if(random() <= p):\n",
    "                x += 1\n",
    "        ans = 2**x - 1\n",
    "        total += ans\n",
    "    return total/k\n",
    "\n",
    "print(int(counting(100,2000)))"
   ]
  },
  {
   "cell_type": "code",
   "execution_count": null,
   "metadata": {},
   "outputs": [],
   "source": []
  }
 ],
 "metadata": {
  "kernelspec": {
   "display_name": "Python 3",
   "language": "python",
   "name": "python3"
  },
  "language_info": {
   "codemirror_mode": {
    "name": "ipython",
    "version": 3
   },
   "file_extension": ".py",
   "mimetype": "text/x-python",
   "name": "python",
   "nbconvert_exporter": "python",
   "pygments_lexer": "ipython3",
   "version": "3.8.3"
  }
 },
 "nbformat": 4,
 "nbformat_minor": 4
}
